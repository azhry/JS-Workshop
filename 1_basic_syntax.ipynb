{
 "cells": [
  {
   "cell_type": "markdown",
   "metadata": {},
   "source": [
    "<h2>Variable Declaration</h2>"
   ]
  },
  {
   "cell_type": "markdown",
   "metadata": {},
   "source": [
    "<p>Salah satu cara mendeklarasikan suatu variabel adalah dengan menggunakan <i>keyword</i> <code>var</code> lalu diikuti dengan nama variabel</p>"
   ]
  },
  {
   "cell_type": "code",
   "execution_count": 1,
   "metadata": {},
   "outputs": [
    {
     "name": "stdout",
     "output_type": "stream",
     "text": [
      "3\n"
     ]
    }
   ],
   "source": [
    "// deklarasi dan inisialisasi variabel dengan nama myVar dengan nilai 3\n",
    "var myVar = 3;\n",
    "\n",
    "// tampilkan nilai variabel myVar ke console\n",
    "console.log(myVar);"
   ]
  },
  {
   "cell_type": "markdown",
   "metadata": {},
   "source": [
    "<p>Nilai suatu variabel adalah <code>undefined</code> jika dideklarasikan tanpa diberi nilai</p>"
   ]
  },
  {
   "cell_type": "code",
   "execution_count": 2,
   "metadata": {},
   "outputs": [
    {
     "name": "stdout",
     "output_type": "stream",
     "text": [
      "undefined\n"
     ]
    }
   ],
   "source": [
    "var a;\n",
    "console.log(a); // secara default suatu variabel bernilai undefined jika tidak diinisialisasi"
   ]
  },
  {
   "cell_type": "markdown",
   "metadata": {},
   "source": [
    "<h2>Data Type</h2>\n",
    "<p>Untuk melihat tipe data dari suatu nilai, kita dapat menggunakan fungsi <code>typeof</code></p>"
   ]
  },
  {
   "cell_type": "code",
   "execution_count": 3,
   "metadata": {},
   "outputs": [
    {
     "name": "stdout",
     "output_type": "stream",
     "text": [
      "Variabel myInt bernilai 4 dengan tipe number\n",
      "Variabel myName bernilai Azhary dengan tipe string\n",
      "Variabel pi bernilai 3.14 dengan tipe number\n",
      "Variabel myBool bernilai true dengan tipe boolean\n",
      "Variabel myUndefined bernilai undefined dengan tipe undefined\n",
      "Variabel myNull bernilai null dengan tipe object\n"
     ]
    }
   ],
   "source": [
    "var myInt = 4;\n",
    "var myName = \"Azhary\";\n",
    "var pi = 3.14;\n",
    "var myBool = true;\n",
    "var myUndefined = undefined;\n",
    "var myNull = null;\n",
    "\n",
    "console.log(\"Variabel myInt bernilai \" + myInt + \" dengan tipe \" + typeof(myInt));\n",
    "console.log(\"Variabel myName bernilai \" + myName + \" dengan tipe \" + typeof(myName));\n",
    "console.log(\"Variabel pi bernilai \" + pi + \" dengan tipe \" + typeof(pi));\n",
    "console.log(\"Variabel myBool bernilai \" + myBool + \" dengan tipe \" + typeof(myBool));\n",
    "console.log(\"Variabel myUndefined bernilai \" + myUndefined + \" dengan tipe \" + typeof(myUndefined));\n",
    "console.log(\"Variabel myNull bernilai \" + myNull + \" dengan tipe \" + typeof(myNull));"
   ]
  },
  {
   "cell_type": "markdown",
   "metadata": {},
   "source": [
    "<h2>Loosely-typed Variable</h2>\n",
    "<p style=\"font-size: 16px;\">Tipe data variabel dalam JavaScript bersifat <i>loosely-typed</i>, artinya tipe data suatu variabel dapat berubah-ubah di tengah jalannya program</p>"
   ]
  },
  {
   "cell_type": "code",
   "execution_count": 4,
   "metadata": {},
   "outputs": [
    {
     "name": "stdout",
     "output_type": "stream",
     "text": [
      "number\n",
      "string\n"
     ]
    }
   ],
   "source": [
    "var myVar = 10; // awalnya myVar bertipe data number\n",
    "console.log(typeof(myVar));\n",
    "\n",
    "myVar = \"Palembang Digital\"; // disini tipe data myVar berubah menjadi string\n",
    "console.log(typeof(myVar));"
   ]
  },
  {
   "cell_type": "markdown",
   "metadata": {},
   "source": [
    "<h2>Mathematical Operator</h2>\n",
    "<table>\n",
    "    <thead>\n",
    "        <tr>\n",
    "            <th>Operator</th>\n",
    "            <th>Deskripsi</th>\n",
    "        </tr>\n",
    "    </thead>\n",
    "    <tbody>\n",
    "        <tr>\n",
    "            <td style=\"text-align: center;\">+</td>\n",
    "            <td>Penjumlahan</td>\n",
    "        </tr>\n",
    "        <tr>\n",
    "            <td style=\"text-align: center;\">-</td>\n",
    "            <td>Pengurangan</td>\n",
    "        </tr>\n",
    "        <tr>\n",
    "            <td style=\"text-align: center;\">*</td>\n",
    "            <td>Perkalian</td>\n",
    "        </tr>\n",
    "        <tr>\n",
    "            <td style=\"text-align: center;\">/</td>\n",
    "            <td>Pembagian</td>\n",
    "        </tr>\n",
    "        <tr>\n",
    "            <td style=\"text-align: center;\">%</td>\n",
    "            <td>Modulo</td>\n",
    "        </tr>\n",
    "    </tbody>\n",
    "</table>"
   ]
  },
  {
   "cell_type": "code",
   "execution_count": 5,
   "metadata": {},
   "outputs": [
    {
     "name": "stdout",
     "output_type": "stream",
     "text": [
      "5\n",
      "3\n",
      "9\n",
      "1.3333333333333333\n",
      "2\n"
     ]
    }
   ],
   "source": [
    "console.log(2 + 3); // 5\n",
    "console.log(5 - 2); // 3\n",
    "console.log(3 * 3); // 9\n",
    "console.log(4 / 3); // 1.33\n",
    "console.log(5 % 3); // 2"
   ]
  },
  {
   "cell_type": "markdown",
   "metadata": {},
   "source": [
    "<h2>Conditional Statement</h2>\n",
    "<p>Blok <code>if-else</code></p>"
   ]
  },
  {
   "cell_type": "code",
   "execution_count": 6,
   "metadata": {},
   "outputs": [
    {
     "name": "stdout",
     "output_type": "stream",
     "text": [
      "x bernilai 7\n"
     ]
    }
   ],
   "source": [
    "var x = 7;\n",
    "\n",
    "if (x == 7)\n",
    "{\n",
    "    console.log(\"x bernilai 7\");\n",
    "}\n",
    "else\n",
    "{\n",
    "    console.log(\"x bukan bernilai 7\");\n",
    "}"
   ]
  },
  {
   "cell_type": "markdown",
   "metadata": {},
   "source": [
    "<p>Blok <code>if - else if - else</code></p>"
   ]
  },
  {
   "cell_type": "code",
   "execution_count": 7,
   "metadata": {},
   "outputs": [
    {
     "name": "stdout",
     "output_type": "stream",
     "text": [
      "x bernilai positif\n"
     ]
    }
   ],
   "source": [
    "var x = 7;\n",
    "\n",
    "if (x > 0)\n",
    "{\n",
    "    console.log(\"x bernilai positif\");\n",
    "}\n",
    "else if (x < 0)\n",
    "{\n",
    "    console.log(\"x bernilai negatif\");\n",
    "}\n",
    "else\n",
    "{\n",
    "    console.log(\"x bernilai 0\");\n",
    "}"
   ]
  },
  {
   "cell_type": "markdown",
   "metadata": {},
   "source": [
    "<h2>Comparison and Logical Operators</h2>\n",
    "<table>\n",
    "    <thead>\n",
    "        <tr>\n",
    "            <th>Operator</th>\n",
    "            <th>Deskripsi</th>\n",
    "        </tr>\n",
    "    </thead>\n",
    "    <tbody>\n",
    "        <tr>\n",
    "            <td style=\"text-align: center;\">==</td>\n",
    "            <td>Sama dengan</td>\n",
    "        </tr>\n",
    "        <tr>\n",
    "            <td style=\"text-align: center;\">!=</td>\n",
    "            <td>Tidak sama dengan</td>\n",
    "        </tr>\n",
    "        <tr>\n",
    "            <td style=\"text-align: center;\">&gt;</td>\n",
    "            <td>Lebih besar</td>\n",
    "        </tr>\n",
    "        <tr>\n",
    "            <td style=\"text-align: center;\">&lt;</td>\n",
    "            <td>Lebih kecil</td>\n",
    "        </tr>\n",
    "        <tr>\n",
    "            <td style=\"text-align: center;\">&gt;=</td>\n",
    "            <td>Lebih besar sama dengan</td>\n",
    "        </tr>\n",
    "        <tr>\n",
    "            <td style=\"text-align: center;\">&lt;=</td>\n",
    "            <td>Lebih kecil sama dengan</td>\n",
    "        </tr>\n",
    "        <tr>\n",
    "            <td style=\"text-align: center;\">||</td>\n",
    "            <td>Atau</td>\n",
    "        </tr>\n",
    "        <tr>\n",
    "            <td style=\"text-align: center;\">&amp;&amp;</td>\n",
    "            <td>Dan</td>\n",
    "        </tr>\n",
    "    </tbody>\n",
    "</table>"
   ]
  },
  {
   "cell_type": "code",
   "execution_count": 8,
   "metadata": {},
   "outputs": [
    {
     "name": "stdout",
     "output_type": "stream",
     "text": [
      "true\n",
      "false\n",
      "true\n",
      "false\n",
      "false\n",
      "true\n",
      "true\n",
      "false\n"
     ]
    }
   ],
   "source": [
    "var x = 7;\n",
    "\n",
    "console.log(x == 7); // true\n",
    "console.log(x > 7); // false\n",
    "console.log(x >= 7); // true\n",
    "console.log(x != 7); // false\n",
    "console.log(x < 7); // false\n",
    "console.log(x <= 7); // true\n",
    "\n",
    "console.log(x >= 7 || x < 7); // true or false -> true\n",
    "console.log(x >= 7 && x < 7); // true and false -> false"
   ]
  },
  {
   "cell_type": "markdown",
   "metadata": {},
   "source": [
    "<h2>Strict Comparison</h2>\n",
    "<p>Operator '==' mengecek nilai antar dua variabel, sedangkan operator '===' mengecek nilai dan tipe data antar dua variabel</p>"
   ]
  },
  {
   "cell_type": "code",
   "execution_count": 9,
   "metadata": {},
   "outputs": [
    {
     "name": "stdout",
     "output_type": "stream",
     "text": [
      "x bernilai 7\n"
     ]
    }
   ],
   "source": [
    "var x = 7;\n",
    "if (x == \"7\")\n",
    "{\n",
    "    console.log(\"x bernilai 7\");\n",
    "}\n",
    "else\n",
    "{\n",
    "    console.log(\"x bukan bernilai 7\");\n",
    "}"
   ]
  },
  {
   "cell_type": "code",
   "execution_count": 10,
   "metadata": {},
   "outputs": [
    {
     "name": "stdout",
     "output_type": "stream",
     "text": [
      "x bukan bernilai 7\n"
     ]
    }
   ],
   "source": [
    "var x = 7;\n",
    "if (x === \"7\")\n",
    "{\n",
    "    console.log(\"x bernilai 7\");\n",
    "}\n",
    "else\n",
    "{\n",
    "    console.log(\"x bukan bernilai 7\");\n",
    "}"
   ]
  },
  {
   "cell_type": "code",
   "execution_count": 10,
   "metadata": {},
   "outputs": [
    {
     "name": "stdout",
     "output_type": "stream",
     "text": [
      "true\n",
      "false\n",
      "true\n",
      "true\n",
      "true\n",
      "false\n"
     ]
    }
   ],
   "source": [
    "console.log(7 == \"7\"); // true\n",
    "console.log(7 === \"7\"); // false\n",
    "console.log(7 !== \"7\"); // true\n",
    "console.log(false == 0); // true\n",
    "console.log(true == 1); // true\n",
    "console.log(true === 1); // false"
   ]
  },
  {
   "cell_type": "markdown",
   "metadata": {},
   "source": [
    "<h2>Loops</h2>\n",
    "<p>Salah satu cara untuk membuat perulangan dengan menggunakan <i>keyword</i> <code>for</code> dengan format <code>for (start; loop condition; increment/decrement)</code></p>"
   ]
  },
  {
   "cell_type": "code",
   "execution_count": 12,
   "metadata": {},
   "outputs": [
    {
     "name": "stdout",
     "output_type": "stream",
     "text": [
      "0\n",
      "1\n",
      "2\n",
      "3\n",
      "4\n",
      "5\n",
      "6\n",
      "7\n",
      "8\n",
      "9\n"
     ]
    }
   ],
   "source": [
    "for (var i = 0; i < 10; i++)\n",
    "{\n",
    "    console.log(i);\n",
    "}"
   ]
  },
  {
   "cell_type": "code",
   "execution_count": 1,
   "metadata": {},
   "outputs": [
    {
     "name": "stdout",
     "output_type": "stream",
     "text": [
      "10\n",
      "9\n",
      "8\n",
      "7\n",
      "6\n",
      "5\n",
      "4\n",
      "3\n",
      "2\n",
      "1\n",
      "0\n"
     ]
    }
   ],
   "source": [
    "for (var i = 10; i >= 0; i--)\n",
    "{\n",
    "    console.log(i);\n",
    "}"
   ]
  },
  {
   "cell_type": "markdown",
   "metadata": {},
   "source": [
    "<h2>Functions</h2>"
   ]
  },
  {
   "cell_type": "code",
   "execution_count": 1,
   "metadata": {},
   "outputs": [
    {
     "name": "stdout",
     "output_type": "stream",
     "text": [
      "3\n"
     ]
    }
   ],
   "source": [
    "function add_two(x, y) // fungsi dengan nama add_two dan memiliki parameter x dan y\n",
    "{\n",
    "    return x + y; // nilai balikan\n",
    "}\n",
    "\n",
    "var result = add_two(1, 2); // memanggil fungsi\n",
    "console.log(result);"
   ]
  },
  {
   "cell_type": "markdown",
   "metadata": {},
   "source": [
    "<p><code>function</code> juga dapat dianggap sebagai nilai dan disimpan ke dalam variabel</p>"
   ]
  },
  {
   "cell_type": "code",
   "execution_count": 1,
   "metadata": {},
   "outputs": [
    {
     "name": "stdout",
     "output_type": "stream",
     "text": [
      "6\n",
      "16\n",
      "function\n"
     ]
    }
   ],
   "source": [
    "var multiply = function(x, y) {\n",
    "    return x * y;\n",
    "};\n",
    "\n",
    "var c = multiply; // fungsi disimpan ke variabel c\n",
    "var d = multiply(4, 4); // nilai balikan dari fungsi disimpan ke variabel d\n",
    "\n",
    "console.log(c(2, 3));\n",
    "console.log(d);\n",
    "console.log(typeof(multiply));"
   ]
  },
  {
   "cell_type": "markdown",
   "metadata": {},
   "source": [
    "<p>Terdapat objek <code>arguments</code> pada <code>function</code> yang berisi nilai-nilai yang diberikan sebagai parameternya</p>"
   ]
  },
  {
   "cell_type": "code",
   "execution_count": 6,
   "metadata": {},
   "outputs": [
    {
     "name": "stdout",
     "output_type": "stream",
     "text": [
      "{}\n",
      "{ '0': 2 }\n",
      "{ '0': 3, '1': 5 }\n"
     ]
    }
   ],
   "source": [
    "function pass_no_args(w, x, y, z) {\n",
    "    console.log(arguments);\n",
    "}\n",
    "\n",
    "pass_no_args();\n",
    "pass_no_args(2);\n",
    "pass_no_args(3, 5);"
   ]
  },
  {
   "cell_type": "markdown",
   "metadata": {},
   "source": [
    "<p>Parameter pada suatu <code>function</code> dapat diberikan nilai <i>default</i> dengan menggunakan teknik <i>null coalesce</i></p>"
   ]
  },
  {
   "cell_type": "code",
   "execution_count": 13,
   "metadata": {},
   "outputs": [
    {
     "name": "stdout",
     "output_type": "stream",
     "text": [
      "x is 5\n",
      "y is 2\n",
      " \n",
      "x is 4\n",
      "y is 6\n",
      " \n"
     ]
    }
   ],
   "source": [
    "function func_with_default_args(x, y) {\n",
    "    var y = y || 2;\n",
    "    \n",
    "    console.log(\"x is\", x);\n",
    "    console.log(\"y is\", y);\n",
    "    console.log(\" \");\n",
    "}\n",
    "\n",
    "func_with_default_args(5);\n",
    "func_with_default_args(4, 6);"
   ]
  },
  {
   "cell_type": "code",
   "execution_count": null,
   "metadata": {},
   "outputs": [],
   "source": []
  }
 ],
 "metadata": {
  "kernelspec": {
   "display_name": "Javascript (Node.js)",
   "language": "javascript",
   "name": "javascript"
  },
  "language_info": {
   "file_extension": ".js",
   "mimetype": "application/javascript",
   "name": "javascript",
   "version": "10.16.3"
  }
 },
 "nbformat": 4,
 "nbformat_minor": 2
}
