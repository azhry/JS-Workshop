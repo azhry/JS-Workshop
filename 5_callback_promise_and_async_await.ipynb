{
 "cells": [
  {
   "cell_type": "markdown",
   "metadata": {},
   "source": [
    "<h2>Asynchronous Process</h2>\n",
    "<p>Secara <i>default</i>, proses pada JavaScript merupakan proses-proses yang bersifat <i>Synchronous</i>, yaitu kode program dieksekusi dari baris atas sampai ke bawah secara berurutan. Namun ada beberapa fungsi pada JavaScript yang bersifat <i>Asynchronous</i>, salah satunya yaitu <code>setTimeout</code></p>"
   ]
  },
  {
   "cell_type": "code",
   "execution_count": 2,
   "metadata": {},
   "outputs": [
    {
     "name": "stdout",
     "output_type": "stream",
     "text": [
      "This is third\n",
      "This is second\n",
      "This is first\n"
     ]
    }
   ],
   "source": [
    "setTimeout(function() {\n",
    "    // kode program di dalam sini akan dieksekusi setelah 2000 milidetik (atau 2 detik)\n",
    "    console.log(\"This is first\");\n",
    "}, 2000);\n",
    "\n",
    "setTimeout(function() {\n",
    "    // kode program di dalam sini akan dieksekusi setelah 1000 milidetik (atau 1 detik)\n",
    "    console.log(\"This is second\");\n",
    "}, 1000);\n",
    "\n",
    "console.log(\"This is third\");"
   ]
  },
  {
   "cell_type": "markdown",
   "metadata": {},
   "source": [
    "<h2>Callback</h2>\n",
    "<p>Jika ingin mengeksekusi program di atas secara berurutan, maka kita harus menaruh kode program di dalam <i>callback</i>. <i>Callback</i> merupakan fungsi yang dieksekusi di akhir jalannya suatu fungsi yang lain. Fungsi <code>setTimeout(<i>Callback, Number</i>)</code> menerima parameter pertama berupa <i>callback</i></p>"
   ]
  },
  {
   "cell_type": "code",
   "execution_count": 3,
   "metadata": {},
   "outputs": [
    {
     "name": "stdout",
     "output_type": "stream",
     "text": [
      "\n",
      "This is first\n",
      "This is second\n",
      "This is third\n"
     ]
    }
   ],
   "source": [
    "setTimeout(function() {\n",
    "    // kode program di dalam sini akan dieksekusi setelah 2000 milidetik (atau 2 detik)\n",
    "    console.log(\"This is first\");\n",
    "    \n",
    "    setTimeout(function() {\n",
    "        // kode program di dalam sini akan dieksekusi setelah 1000 milidetik (atau 1 detik)\n",
    "        \n",
    "        console.log(\"This is second\");\n",
    "        console.log(\"This is third\");\n",
    "    \n",
    "    }, 1000);\n",
    "    \n",
    "}, 2000);\n",
    "\n",
    "console.log(); // abaikan baris kode ini"
   ]
  },
  {
   "cell_type": "markdown",
   "metadata": {},
   "source": [
    "<p>Kamu pasti akan menemukan pola kode program yang banyak menggunakan <i>callback</i> seperti ini ketika membuat program dengan Node.js. Jika <i>callback</i> yang digunakan terlalu banyak dan dalam, maka akan terjadi yang disebut sebagai <a href=\"http://callbackhell.com/\"><i>Callback Hell</i></a>.</p>\n",
    "<img src=\"img/callback_hell.jpeg\">\n",
    "<p>Salah satu cara untuk menyelesaikan masalah tersebut adalah dengan menggunakan <i>Promise</i></p>"
   ]
  },
  {
   "cell_type": "markdown",
   "metadata": {},
   "source": [
    "<h2>Promise</h2>\n",
    "<p><i>Promise</i> merupakan suatu objek yang dapat membuat suatu fungsi yang <i>Asynchronous</i> bersifat menjadi <i>Synchronous</i> dengan menggunakan <code>then</code>. Fungsi lain yang bersifat <i>Asynchronous</i> adalah <code>fetch</code>. <code>fetch</code> merupakan fungsi yang digunakan untuk melakukan <i>network request</i> berdasarkan url yang diberikan. Namun kita dapat menggunakan <i>promise</i> pada <code>fetch</code> karena nilai balikannya berupa <i>promise</i>. Sehingga kita dapat merantainya dengan <code>then</code></p>"
   ]
  },
  {
   "cell_type": "code",
   "execution_count": 4,
   "metadata": {},
   "outputs": [
    {
     "name": "stdout",
     "output_type": "stream",
     "text": [
      "object\n",
      "[ { userId: 1,\n",
      "    id: 1,\n",
      "    title: 'delectus aut autem',\n",
      "    completed: false } ]\n"
     ]
    }
   ],
   "source": [
    "var fetch = require(\"node-fetch\"); // baris kode ini boleh tidak ditulis jika dieksekusi di browser\n",
    "\n",
    "function do_network_request() {\n",
    "       fetch(\"https://jsonplaceholder.typicode.com/todos?id=1\")\n",
    "        .then(function(response) {\n",
    "            return response.json(); // mengambil response body dalam bentuk json\n",
    "        })\n",
    "        .then(function(json) {\n",
    "            console.log(typeof(json));\n",
    "            console.log(json);\n",
    "        });\n",
    "}\n",
    "\n",
    "do_network_request();"
   ]
  },
  {
   "cell_type": "markdown",
   "metadata": {},
   "source": [
    "<h2>Async/Await</h2>\n",
    "<p>Cara lain agar membuat fungsi <i>Asynchronous</i> menjadi <i>Synchronous</i> adalah dengan menggunakan <i>Async/Await</i>. Gunakan <i>keyword</i> <code>async</code> pada fungsi yang ada proses yang bersifat <i>Asynchronous</i> dan berupa <i>promise</i>, lalu tambahkan <i>keyword</i> <code>await</code> pada proses yang nilai balikannya berupa <i>promise</i> tersebut.</p>"
   ]
  },
  {
   "cell_type": "code",
   "execution_count": 5,
   "metadata": {},
   "outputs": [
    {
     "name": "stdout",
     "output_type": "stream",
     "text": [
      "[ { userId: 1,\n",
      "    id: 2,\n",
      "    title: 'quis ut nam facilis et officia qui',\n",
      "    completed: false } ]\n"
     ]
    }
   ],
   "source": [
    "async function do_network_request() {\n",
    "    var response = await fetch(\"https://jsonplaceholder.typicode.com/todos?id=2\");\n",
    "    var json = await response.json();\n",
    "    console.log(json);\n",
    "}\n",
    "\n",
    "do_network_request();"
   ]
  },
  {
   "cell_type": "markdown",
   "metadata": {},
   "source": [
    "<h1>Deep Dive on Promises</h1>"
   ]
  },
  {
   "cell_type": "markdown",
   "metadata": {},
   "source": [
    "<h3>Promise Flow</h3>\n",
    "<img src=\"https://mdn.mozillademos.org/files/15911/promises.png\"/>\n",
    "\n",
    "<h3>Promise Signature</h3>"
   ]
  },
  {
   "cell_type": "code",
   "execution_count": 6,
   "metadata": {},
   "outputs": [
    {
     "name": "stdout",
     "output_type": "stream",
     "text": [
      "success\n"
     ]
    }
   ],
   "source": [
    "new Promise((resolve, reject) => {\n",
    "        const error = false;\n",
    "        if (!error) {\n",
    "            resolve('success'); // nilai 'success' akan tersedia pada .then\n",
    "        }\n",
    "        else {\n",
    "            reject('failed'); // nilai 'failed' akan tersedia pada .catch\n",
    "        }\n",
    "    })\n",
    "    .then(result => {\n",
    "        console.log(result);\n",
    "    })\n",
    "    .catch(error => {\n",
    "        console.log(error);\n",
    "    });"
   ]
  },
  {
   "cell_type": "markdown",
   "metadata": {},
   "source": [
    "<h3>Promise Chaining</h3>"
   ]
  },
  {
   "cell_type": "code",
   "execution_count": 7,
   "metadata": {},
   "outputs": [
    {
     "name": "stdout",
     "output_type": "stream",
     "text": [
      "counter 1\n",
      "counter 2\n",
      "last counter\n",
      "3\n"
     ]
    }
   ],
   "source": [
    "// avoiding callback hell with promise chaining\n",
    "new Promise((resolve, reject) => {\n",
    "        setTimeout(() => {\n",
    "            const counter = 1;\n",
    "            console.log('counter 1');\n",
    "            resolve(counter);\n",
    "        }, 1500);\n",
    "    })\n",
    "    .then(counter => {\n",
    "        return new Promise((resolve, reject) => {\n",
    "            setTimeout(() => {\n",
    "                console.log('counter 2');\n",
    "                resolve(counter + 1);\n",
    "            }, 1500);\n",
    "        });\n",
    "    })\n",
    "    .then(counter => {\n",
    "        console.log('last counter');\n",
    "        console.log(counter + 1);\n",
    "    });"
   ]
  },
  {
   "cell_type": "markdown",
   "metadata": {},
   "source": [
    "<h3>Conditional Promise Chaining</h3>"
   ]
  },
  {
   "cell_type": "code",
   "execution_count": 8,
   "metadata": {},
   "outputs": [
    {
     "name": "stdout",
     "output_type": "stream",
     "text": [
      "redirecting to login page\n"
     ]
    }
   ],
   "source": [
    "// conditional promise chaining\n",
    "function promisedRedirect(isLoggedIn) {\n",
    "    let promiseChain = Promise.resolve();\n",
    "\n",
    "    if (isLoggedIn) {\n",
    "        promiseChain = new Promise((resolve, reject) => {\n",
    "           resolve('redirecting to home page'); \n",
    "        });\n",
    "    }\n",
    "    else {\n",
    "        promiseChain = new Promise((resolve, reject) => {\n",
    "           resolve('redirecting to login page'); \n",
    "        });\n",
    "    }\n",
    "    \n",
    "    return promiseChain;\n",
    "}\n",
    "\n",
    "promisedRedirect(false)\n",
    "    .then(res => {\n",
    "        console.log(res);\n",
    "    });\n"
   ]
  },
  {
   "cell_type": "markdown",
   "metadata": {},
   "source": [
    "<h3>Execute Multiple Promises Asynchronously using Promise.all()</h3>"
   ]
  },
  {
   "cell_type": "code",
   "execution_count": 9,
   "metadata": {},
   "outputs": [
    {
     "name": "stdout",
     "output_type": "stream",
     "text": [
      "[ 'promise1 result', 'promise2 result', 'promise3 result' ]\n"
     ]
    }
   ],
   "source": [
    "const promise1 = new Promise((resolve, reject) => {\n",
    "    setTimeout(() => {\n",
    "        resolve('promise1 result');\n",
    "    }, 1000);\n",
    "});\n",
    "\n",
    "const promise2 = new Promise((resolve, reject) => {\n",
    "    setTimeout(() => {\n",
    "        resolve('promise2 result');\n",
    "    }, 2000);\n",
    "});\n",
    "\n",
    "\n",
    "const promise3 = new Promise((resolve, reject) => {\n",
    "    setTimeout(() => {\n",
    "        resolve('promise3 result');\n",
    "    }, 6000);\n",
    "});\n",
    "\n",
    "const promises = Promise.all([promise1, promise2, promise3]);\n",
    "promises\n",
    "    .then(results => {\n",
    "       console.log(results); \n",
    "    });"
   ]
  },
  {
   "cell_type": "markdown",
   "metadata": {},
   "source": [
    "<p>Promise.all akan langsung mengembalikan nilai error jika salah satu promise yang dieksekusinya error</p>"
   ]
  },
  {
   "cell_type": "code",
   "execution_count": 10,
   "metadata": {},
   "outputs": [
    {
     "name": "stdout",
     "output_type": "stream",
     "text": [
      "promise5 error\n"
     ]
    }
   ],
   "source": [
    "const promise4 = new Promise((resolve, reject) => {\n",
    "    setTimeout(() => {\n",
    "        resolve('promise4 result');\n",
    "    }, 1000);\n",
    "});\n",
    "\n",
    "const promise5 = new Promise((resolve, reject) => {\n",
    "    setTimeout(() => {\n",
    "        reject('promise5 error');\n",
    "    }, 2000);\n",
    "});\n",
    "\n",
    "const promise6 = new Promise((resolve, reject) => {\n",
    "    setTimeout(() => {\n",
    "        resolve('promise6 result');\n",
    "    }, 6000);\n",
    "});\n",
    "\n",
    "const promises2 = Promise.all([promise4, promise5, promise6]);\n",
    "promises2\n",
    "    .then(results => {\n",
    "        console.log(results); \n",
    "    })\n",
    "    .catch(error => {\n",
    "        console.log(error); // nilai balikan berupa error yang dikirim dari promise yang error\n",
    "    });"
   ]
  },
  {
   "cell_type": "markdown",
   "metadata": {},
   "source": [
    "<h3>Execute Multiple Promises Asynchronously using Promise.allSettled()</h3>\n",
    "<p>Bedanya dengan Promise.all adalah allSettled akan mengembalikan nilai setelah semua promise selesai dieksekusi meskipun terjadi error pada salah satu promise-nya</p>"
   ]
  },
  {
   "cell_type": "code",
   "execution_count": null,
   "metadata": {},
   "outputs": [],
   "source": [
    "const promise7 = Promise.resolve(3);\n",
    "const promise8 = new Promise((resolve, reject) => {\n",
    "    setTimeout(() => {\n",
    "        reject('kurang ganteng');\n",
    "    }, 1000);\n",
    "});\n",
    "\n",
    "// allSettled is available on node > 12.x.x\n",
    "const promises3 = Promise.allSettled([promise7, promise8]);\n",
    "promises3\n",
    "    .then(results => {\n",
    "        console.log(results);\n",
    "    });"
   ]
  },
  {
   "cell_type": "code",
   "execution_count": null,
   "metadata": {},
   "outputs": [],
   "source": []
  }
 ],
 "metadata": {
  "kernelspec": {
   "display_name": "Javascript (Node.js)",
   "language": "javascript",
   "name": "javascript"
  },
  "language_info": {
   "file_extension": ".js",
   "mimetype": "application/javascript",
   "name": "javascript",
   "version": "10.16.3"
  }
 },
 "nbformat": 4,
 "nbformat_minor": 2
}
