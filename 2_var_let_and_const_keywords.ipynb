{
 "cells": [
  {
   "cell_type": "markdown",
   "metadata": {},
   "source": [
    "<h2>Var Keyword</h2>"
   ]
  },
  {
   "cell_type": "markdown",
   "metadata": {},
   "source": [
    "<p>Jika suatu variabel didefinisikan dengan keyword <code>var</code>, maka variabel tersebut akan terus ada setelah variabel tersebut dideklarasikan meskipun digunakan di luar blok kode dimana variabel tersebut didefinisikan</p>"
   ]
  },
  {
   "cell_type": "code",
   "execution_count": 1,
   "metadata": {},
   "outputs": [
    {
     "name": "stdout",
     "output_type": "stream",
     "text": [
      "1\n"
     ]
    }
   ],
   "source": [
    "var x = 1;\n",
    "console.log(x);"
   ]
  },
  {
   "cell_type": "code",
   "execution_count": 2,
   "metadata": {},
   "outputs": [
    {
     "name": "stdout",
     "output_type": "stream",
     "text": [
      "y value in if block:  2\n",
      "y value out of if block:  2\n"
     ]
    }
   ],
   "source": [
    "if (true)\n",
    "{\n",
    "    var y = 2;\n",
    "    console.log(\"y value in if block: \", y);\n",
    "}\n",
    "\n",
    "console.log(\"y value out of if block: \", y);"
   ]
  },
  {
   "cell_type": "markdown",
   "metadata": {},
   "source": [
    "<h2>Let Keyword</h2>"
   ]
  },
  {
   "cell_type": "markdown",
   "metadata": {},
   "source": [
    "<p>Jika suatu variabel didefinisikan dengan keyword <code>let</code>, maka variabel tersebut hanya berlaku di dalam blok kode dimana variabel tersebut didefinisikan</p>"
   ]
  },
  {
   "cell_type": "code",
   "execution_count": 1,
   "metadata": {},
   "outputs": [
    {
     "name": "stdout",
     "output_type": "stream",
     "text": [
      "z value in if block:  3\n",
      "z value in if if block:  3\n"
     ]
    },
    {
     "ename": "ReferenceError",
     "evalue": "z is not defined",
     "output_type": "error",
     "traceback": [
      "evalmachine.<anonymous>:12",
      "console.log(\"z value out of if block: \", z);",
      "                                         ^",
      "",
      "ReferenceError: z is not defined",
      "    at evalmachine.<anonymous>:12:42",
      "    at ContextifyScript.Script.runInThisContext (vm.js:50:33)",
      "    at Object.runInThisContext (vm.js:139:38)",
      "    at run ([eval]:1002:15)",
      "    at onRunRequest ([eval]:829:18)",
      "    at onMessage ([eval]:789:13)",
      "    at emitTwo (events.js:126:13)",
      "    at process.emit (events.js:214:7)",
      "    at emit (internal/child_process.js:772:12)",
      "    at _combinedTickCallback (internal/process/next_tick.js:141:11)"
     ]
    }
   ],
   "source": [
    "if (true)\n",
    "{\n",
    "    let z = 3;\n",
    "    console.log(\"z value in if block: \", z);\n",
    "    \n",
    "    if (true)\n",
    "    {\n",
    "        console.log(\"z value in if if block: \", z);\n",
    "    }\n",
    "}\n",
    "\n",
    "console.log(\"z value out of if block: \", z);"
   ]
  },
  {
   "cell_type": "markdown",
   "metadata": {},
   "source": [
    "<p>Variabel yang didefinisikan dengan keyword <code>let</code> dapat diubah nilainya setelah dideklarasikan, sama seperti variabel yang didefinisikan dengan keyword <code>var</code></p>"
   ]
  },
  {
   "cell_type": "code",
   "execution_count": 4,
   "metadata": {},
   "outputs": [
    {
     "name": "stdout",
     "output_type": "stream",
     "text": [
      "let before:  9\n",
      "let after:  11\n"
     ]
    }
   ],
   "source": [
    "let d = 9;\n",
    "console.log(\"let before: \", d);\n",
    "\n",
    "d = 11;\n",
    "console.log(\"let after: \", d);"
   ]
  },
  {
   "cell_type": "markdown",
   "metadata": {},
   "source": [
    "<h2>Const Keyword</h2>"
   ]
  },
  {
   "cell_type": "markdown",
   "metadata": {},
   "source": [
    "Sama seperti <code>let</code>, variabel yang didefinisikan dengan keyword <code>const</code> hanya berlaku di dalam blok kode dimana variabel tersebut didefinisikan"
   ]
  },
  {
   "cell_type": "code",
   "execution_count": 2,
   "metadata": {},
   "outputs": [
    {
     "name": "stdout",
     "output_type": "stream",
     "text": [
      "p value in if block:  3\n",
      "p value in if if block:  3\n"
     ]
    },
    {
     "ename": "ReferenceError",
     "evalue": "p is not defined",
     "output_type": "error",
     "traceback": [
      "evalmachine.<anonymous>:12",
      "console.log(\"p value out of if block: \", p);",
      "                                         ^",
      "",
      "ReferenceError: p is not defined",
      "    at evalmachine.<anonymous>:12:42",
      "    at ContextifyScript.Script.runInThisContext (vm.js:50:33)",
      "    at Object.runInThisContext (vm.js:139:38)",
      "    at run ([eval]:1002:15)",
      "    at onRunRequest ([eval]:829:18)",
      "    at onMessage ([eval]:789:13)",
      "    at emitTwo (events.js:126:13)",
      "    at process.emit (events.js:214:7)",
      "    at emit (internal/child_process.js:772:12)",
      "    at _combinedTickCallback (internal/process/next_tick.js:141:11)"
     ]
    }
   ],
   "source": [
    "if (true)\n",
    "{\n",
    "    const p = 3;\n",
    "    console.log(\"p value in if block: \", p);\n",
    "    \n",
    "    if (true)\n",
    "    {\n",
    "        console.log(\"p value in if if block: \", p);\n",
    "    }\n",
    "}\n",
    "\n",
    "console.log(\"p value out of if block: \", p);"
   ]
  },
  {
   "cell_type": "markdown",
   "metadata": {},
   "source": [
    "<p>Variabel yang didefinisikan dengan keyword <code>const</code> tidak dapat diubah nilainya setelah dideklarasikan. Gunakan keyword ini saat mendefinisikan suatu variabel jika anda yakin bahwa nilai dari variabel tersebut tidak akan berubah. Ini akan berguna untuk membuat kode program menjadi lebih <i>readable</i></p>"
   ]
  },
  {
   "cell_type": "code",
   "execution_count": 5,
   "metadata": {},
   "outputs": [
    {
     "ename": "SyntaxError",
     "evalue": "Identifier 'pi' has already been declared",
     "output_type": "error",
     "traceback": [
      "evalmachine.<anonymous>:1",
      "const pi = 3.14; // pi merupakan salah satu konstanta dalam matematika",
      "^",
      "",
      "SyntaxError: Identifier 'pi' has already been declared",
      "    at evalmachine.<anonymous>:1:1",
      "    at ContextifyScript.Script.runInThisContext (vm.js:50:33)",
      "    at Object.runInThisContext (vm.js:139:38)",
      "    at run ([eval]:1002:15)",
      "    at onRunRequest ([eval]:829:18)",
      "    at onMessage ([eval]:789:13)",
      "    at emitTwo (events.js:126:13)",
      "    at process.emit (events.js:214:7)",
      "    at emit (internal/child_process.js:772:12)",
      "    at _combinedTickCallback (internal/process/next_tick.js:141:11)"
     ]
    }
   ],
   "source": [
    "const pi = 3.14; // pi merupakan salah satu konstanta dalam matematika\n",
    "console.log(\"const pi before: \", pi);\n",
    "\n",
    "pi = 0.2929;\n",
    "console.log(\"const pi after: \", pi);"
   ]
  },
  {
   "cell_type": "markdown",
   "metadata": {},
   "source": [
    "<p>Dengan keyword <code>const</code>, suatu variabel akan bersifat <i>\"Immutable\"</i>, yaitu nilai dari suatu variabel tersebut tidak dapat diubah. Namun diberi tanda kutip karena variabel tersebut tidak immutable seutuhnya.</p>"
   ]
  },
  {
   "cell_type": "code",
   "execution_count": 8,
   "metadata": {},
   "outputs": [
    {
     "name": "stdout",
     "output_type": "stream",
     "text": [
      "obj before:  { job: 'Machine Learning Engineer', description: 'Lorem Ipsum' }\n",
      "obj after:  { job: 'Machine Learning Engineer',\n",
      "  description: 'Experienced in Python or R' }\n"
     ]
    }
   ],
   "source": [
    "const obj = {job: \"Machine Learning Engineer\", description: \"Lorem Ipsum\"}; // variabel dengan tipe data json\n",
    "console.log(\"obj before: \", obj);\n",
    "\n",
    "obj.description = \"Experienced in Python or R\";\n",
    "console.log(\"obj after: \", obj);"
   ]
  },
  {
   "cell_type": "markdown",
   "metadata": {},
   "source": [
    "<p>JSON (akan dipelajari pada materi selanjutnya)</p>\n",
    "\n",
    "<p>Variabel <code>const</code> dengan tipe data JSON masih dapat diubah propertinya. Agar suatu variabel benar-benar bersifat <i>immutable</i>, anda dapat menggunakan <a href=\"https://facebook.github.io/immutable-js/\">Immutable.js</a></p>"
   ]
  }
 ],
 "metadata": {
  "kernelspec": {
   "display_name": "Javascript (Node.js)",
   "language": "javascript",
   "name": "javascript"
  },
  "language_info": {
   "file_extension": ".js",
   "mimetype": "application/javascript",
   "name": "javascript",
   "version": "10.16.3"
  }
 },
 "nbformat": 4,
 "nbformat_minor": 2
}
